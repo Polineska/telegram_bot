{
  "nbformat": 4,
  "nbformat_minor": 0,
  "metadata": {
    "colab": {
      "provenance": [],
      "authorship_tag": "ABX9TyN3Y7DygmhWPe6t0wXQhL0T",
      "include_colab_link": true
    },
    "kernelspec": {
      "name": "python3",
      "display_name": "Python 3"
    },
    "language_info": {
      "name": "python"
    }
  },
  "cells": [
    {
      "cell_type": "markdown",
      "metadata": {
        "id": "view-in-github",
        "colab_type": "text"
      },
      "source": [
        "<a href=\"https://colab.research.google.com/github/nastuaah/telegram_bot/blob/master/%D0%9F%D1%80%D0%BE%D0%B5%D0%BA%D1%82.ipynb\" target=\"_parent\"><img src=\"https://colab.research.google.com/assets/colab-badge.svg\" alt=\"Open In Colab\"/></a>"
      ]
    },
    {
      "cell_type": "code",
      "source": [
        "!pip3 install pytelegrambotapi\n",
        "!pip3 install requests\n",
        "!pip3 install io\n",
        "!pip install transformers\n",
        "!pip install validators"
      ],
      "metadata": {
        "id": "zpesOROMjprz",
        "colab": {
          "base_uri": "https://localhost:8080/"
        },
        "outputId": "d2ed8fe8-6a5e-4ae5-ed44-210a0421c280"
      },
      "execution_count": 16,
      "outputs": [
        {
          "output_type": "stream",
          "name": "stdout",
          "text": [
            "Looking in indexes: https://pypi.org/simple, https://us-python.pkg.dev/colab-wheels/public/simple/\n",
            "Requirement already satisfied: pytelegrambotapi in /usr/local/lib/python3.10/dist-packages (4.12.0)\n",
            "Requirement already satisfied: requests in /usr/local/lib/python3.10/dist-packages (from pytelegrambotapi) (2.27.1)\n",
            "Requirement already satisfied: urllib3<1.27,>=1.21.1 in /usr/local/lib/python3.10/dist-packages (from requests->pytelegrambotapi) (1.26.15)\n",
            "Requirement already satisfied: certifi>=2017.4.17 in /usr/local/lib/python3.10/dist-packages (from requests->pytelegrambotapi) (2022.12.7)\n",
            "Requirement already satisfied: charset-normalizer~=2.0.0 in /usr/local/lib/python3.10/dist-packages (from requests->pytelegrambotapi) (2.0.12)\n",
            "Requirement already satisfied: idna<4,>=2.5 in /usr/local/lib/python3.10/dist-packages (from requests->pytelegrambotapi) (3.4)\n",
            "Looking in indexes: https://pypi.org/simple, https://us-python.pkg.dev/colab-wheels/public/simple/\n",
            "Requirement already satisfied: requests in /usr/local/lib/python3.10/dist-packages (2.27.1)\n",
            "Requirement already satisfied: urllib3<1.27,>=1.21.1 in /usr/local/lib/python3.10/dist-packages (from requests) (1.26.15)\n",
            "Requirement already satisfied: certifi>=2017.4.17 in /usr/local/lib/python3.10/dist-packages (from requests) (2022.12.7)\n",
            "Requirement already satisfied: charset-normalizer~=2.0.0 in /usr/local/lib/python3.10/dist-packages (from requests) (2.0.12)\n",
            "Requirement already satisfied: idna<4,>=2.5 in /usr/local/lib/python3.10/dist-packages (from requests) (3.4)\n",
            "Looking in indexes: https://pypi.org/simple, https://us-python.pkg.dev/colab-wheels/public/simple/\n",
            "\u001b[31mERROR: Could not find a version that satisfies the requirement io (from versions: none)\u001b[0m\u001b[31m\n",
            "\u001b[0m\u001b[31mERROR: No matching distribution found for io\u001b[0m\u001b[31m\n",
            "\u001b[0mLooking in indexes: https://pypi.org/simple, https://us-python.pkg.dev/colab-wheels/public/simple/\n",
            "Requirement already satisfied: transformers in /usr/local/lib/python3.10/dist-packages (4.29.2)\n",
            "Requirement already satisfied: filelock in /usr/local/lib/python3.10/dist-packages (from transformers) (3.12.0)\n",
            "Requirement already satisfied: huggingface-hub<1.0,>=0.14.1 in /usr/local/lib/python3.10/dist-packages (from transformers) (0.15.1)\n",
            "Requirement already satisfied: numpy>=1.17 in /usr/local/lib/python3.10/dist-packages (from transformers) (1.22.4)\n",
            "Requirement already satisfied: packaging>=20.0 in /usr/local/lib/python3.10/dist-packages (from transformers) (23.1)\n",
            "Requirement already satisfied: pyyaml>=5.1 in /usr/local/lib/python3.10/dist-packages (from transformers) (6.0)\n",
            "Requirement already satisfied: regex!=2019.12.17 in /usr/local/lib/python3.10/dist-packages (from transformers) (2022.10.31)\n",
            "Requirement already satisfied: requests in /usr/local/lib/python3.10/dist-packages (from transformers) (2.27.1)\n",
            "Requirement already satisfied: tokenizers!=0.11.3,<0.14,>=0.11.1 in /usr/local/lib/python3.10/dist-packages (from transformers) (0.13.3)\n",
            "Requirement already satisfied: tqdm>=4.27 in /usr/local/lib/python3.10/dist-packages (from transformers) (4.65.0)\n",
            "Requirement already satisfied: fsspec in /usr/local/lib/python3.10/dist-packages (from huggingface-hub<1.0,>=0.14.1->transformers) (2023.4.0)\n",
            "Requirement already satisfied: typing-extensions>=3.7.4.3 in /usr/local/lib/python3.10/dist-packages (from huggingface-hub<1.0,>=0.14.1->transformers) (4.5.0)\n",
            "Requirement already satisfied: urllib3<1.27,>=1.21.1 in /usr/local/lib/python3.10/dist-packages (from requests->transformers) (1.26.15)\n",
            "Requirement already satisfied: certifi>=2017.4.17 in /usr/local/lib/python3.10/dist-packages (from requests->transformers) (2022.12.7)\n",
            "Requirement already satisfied: charset-normalizer~=2.0.0 in /usr/local/lib/python3.10/dist-packages (from requests->transformers) (2.0.12)\n",
            "Requirement already satisfied: idna<4,>=2.5 in /usr/local/lib/python3.10/dist-packages (from requests->transformers) (3.4)\n",
            "Looking in indexes: https://pypi.org/simple, https://us-python.pkg.dev/colab-wheels/public/simple/\n",
            "Collecting validators\n",
            "  Downloading validators-0.20.0.tar.gz (30 kB)\n",
            "  Preparing metadata (setup.py) ... \u001b[?25l\u001b[?25hdone\n",
            "Requirement already satisfied: decorator>=3.4.0 in /usr/local/lib/python3.10/dist-packages (from validators) (4.4.2)\n",
            "Building wheels for collected packages: validators\n",
            "  Building wheel for validators (setup.py) ... \u001b[?25l\u001b[?25hdone\n",
            "  Created wheel for validators: filename=validators-0.20.0-py3-none-any.whl size=19579 sha256=9661ec5c2849a7d21995d015674c37fa408464fedd3c72de1a70521254392357\n",
            "  Stored in directory: /root/.cache/pip/wheels/f2/ed/dd/d3a556ad245ef9dc570c6bcd2f22886d17b0b408dd3bbb9ac3\n",
            "Successfully built validators\n",
            "Installing collected packages: validators\n",
            "Successfully installed validators-0.20.0\n"
          ]
        }
      ]
    },
    {
      "cell_type": "code",
      "execution_count": null,
      "metadata": {
        "id": "5_xHJ17sjkVJ",
        "colab": {
          "base_uri": "https://localhost:8080/"
        },
        "outputId": "69ec3bbf-774d-4d8a-8988-c7ad7edf5a69"
      },
      "outputs": [
        {
          "output_type": "stream",
          "name": "stderr",
          "text": [
            "2023-06-05 14:20:05,623 (__init__.py:960 MainThread) ERROR - TeleBot: \"Infinity polling exception: 'Message' object has no attribute 'from_handle_photo'\"\n",
            "ERROR:TeleBot:Infinity polling exception: 'Message' object has no attribute 'from_handle_photo'\n",
            "2023-06-05 14:20:05,627 (__init__.py:962 MainThread) ERROR - TeleBot: \"Exception traceback:\n",
            "Traceback (most recent call last):\n",
            "  File \"/usr/local/lib/python3.10/dist-packages/telebot/__init__.py\", line 955, in infinity_polling\n",
            "    self.polling(non_stop=True, timeout=timeout, long_polling_timeout=long_polling_timeout,\n",
            "  File \"/usr/local/lib/python3.10/dist-packages/telebot/__init__.py\", line 1043, in polling\n",
            "    self.__threaded_polling(non_stop=non_stop, interval=interval, timeout=timeout, long_polling_timeout=long_polling_timeout,\n",
            "  File \"/usr/local/lib/python3.10/dist-packages/telebot/__init__.py\", line 1118, in __threaded_polling\n",
            "    raise e\n",
            "  File \"/usr/local/lib/python3.10/dist-packages/telebot/__init__.py\", line 1074, in __threaded_polling\n",
            "    self.worker_pool.raise_exceptions()\n",
            "  File \"/usr/local/lib/python3.10/dist-packages/telebot/util.py\", line 147, in raise_exceptions\n",
            "    raise self.exception_info\n",
            "  File \"/usr/local/lib/python3.10/dist-packages/telebot/util.py\", line 90, in run\n",
            "    task(*args, **kwargs)\n",
            "  File \"/usr/local/lib/python3.10/dist-packages/telebot/__init__.py\", line 6770, in _run_middlewares_and_handler\n",
            "    result = handler['function'](message)\n",
            "  File \"<ipython-input-23-289448c30a27>\", line 26, in start\n",
            "    mess = f'Message description, <b>{message.from_handle_photo} </b>'\n",
            "AttributeError: 'Message' object has no attribute 'from_handle_photo'\n",
            "\"\n",
            "ERROR:TeleBot:Exception traceback:\n",
            "Traceback (most recent call last):\n",
            "  File \"/usr/local/lib/python3.10/dist-packages/telebot/__init__.py\", line 955, in infinity_polling\n",
            "    self.polling(non_stop=True, timeout=timeout, long_polling_timeout=long_polling_timeout,\n",
            "  File \"/usr/local/lib/python3.10/dist-packages/telebot/__init__.py\", line 1043, in polling\n",
            "    self.__threaded_polling(non_stop=non_stop, interval=interval, timeout=timeout, long_polling_timeout=long_polling_timeout,\n",
            "  File \"/usr/local/lib/python3.10/dist-packages/telebot/__init__.py\", line 1118, in __threaded_polling\n",
            "    raise e\n",
            "  File \"/usr/local/lib/python3.10/dist-packages/telebot/__init__.py\", line 1074, in __threaded_polling\n",
            "    self.worker_pool.raise_exceptions()\n",
            "  File \"/usr/local/lib/python3.10/dist-packages/telebot/util.py\", line 147, in raise_exceptions\n",
            "    raise self.exception_info\n",
            "  File \"/usr/local/lib/python3.10/dist-packages/telebot/util.py\", line 90, in run\n",
            "    task(*args, **kwargs)\n",
            "  File \"/usr/local/lib/python3.10/dist-packages/telebot/__init__.py\", line 6770, in _run_middlewares_and_handler\n",
            "    result = handler['function'](message)\n",
            "  File \"<ipython-input-23-289448c30a27>\", line 26, in start\n",
            "    mess = f'Message description, <b>{message.from_handle_photo} </b>'\n",
            "AttributeError: 'Message' object has no attribute 'from_handle_photo'\n",
            "\n"
          ]
        }
      ],
      "source": [
        "import telebot\n",
        "import requests\n",
        "import validators\n",
        "from io import BytesIO\n",
        "import torch\n",
        "from PIL import Image\n",
        "from transformers import ViTFeatureExtractor, AutoTokenizer, VisionEncoderDecoderModel\n",
        "\n",
        "\n",
        "loc = \"ydshieh/vit-gpt2-coco-en\"\n",
        "\n",
        "feature_extractor = ViTFeatureExtractor.from_pretrained(loc)\n",
        "tokenizer = AutoTokenizer.from_pretrained(loc)\n",
        "model = VisionEncoderDecoderModel.from_pretrained(loc)\n",
        "model.eval()\n",
        "\n",
        "bot = telebot.TeleBot(\"6219426476:AAEsx4VPKBpEwZ3ExJF2NyZbsvYDJcjjlm8\")\n",
        "\n",
        "@bot.message_handler(commands=['start'])\n",
        "def start(message): \n",
        "  mess = f'Привет, <b>{message.from_user.first_name} </b>' \n",
        "  bot.send_message(message.chat.id, mess,parse_mode='html')\n",
        "\n",
        "@bot.message_handler(commands=['photo'])\n",
        "def start(message): \n",
        "  mess = f'Message description, <b>{message.from_handle_photo} </b>' \n",
        "  bot.send_message(message.chat.id, 'Пришлите фотографию')\n",
        "\n",
        "@bot.message_handler(commands=['text'])\n",
        "def start(message): \n",
        "  mess = f'Message description, <b>{message.from_handle_text} </b>' \n",
        "  bot.send_message(message.chat.id, 'Пришлите ссылку на фотографию')\n",
        "\n",
        "def predict(image):\n",
        "\n",
        "    pixel_values = feature_extractor(images=image, return_tensors=\"pt\").pixel_values\n",
        "\n",
        "    with torch.no_grad():\n",
        "        output_ids = model.generate(pixel_values, max_length=16, num_beams=4, return_dict_in_generate=True).sequences\n",
        "\n",
        "    preds = tokenizer.batch_decode(output_ids, skip_special_tokens=True)\n",
        "    preds = [pred.strip() for pred in preds]\n",
        "\n",
        "    return preds\n",
        "\n",
        "\n",
        "@bot.message_handler(content_types=['photo'])\n",
        "def handle_photo(message):\n",
        "    file_id = message.photo[-1].file_id\n",
        "    file_url = bot.get_file_url(file_id)\n",
        "\n",
        "    with Image.open(requests.get(file_url, stream=True).raw) as image:\n",
        "        preds = predict(image)\n",
        "        bot.send_message(message.chat.id, preds)\n",
        "\n",
        "@bot.message_handler(content_types=['text'])\n",
        "def handle_url(message):\n",
        "\n",
        "    if not validators.url(message.text):\n",
        "        bot.send_message(message.chat.id,\"Скиньте ссылку!\")\n",
        "        return\n",
        "\n",
        "    with Image.open(requests.get(message.text, stream=True).raw) as image:\n",
        "        preds = predict(image)\n",
        "        bot.send_message(message.chat.id, preds)\n",
        "\n",
        "bot.infinity_polling()"
      ]
    }
  ]
}