{
  "nbformat": 4,
  "nbformat_minor": 0,
  "metadata": {
    "colab": {
      "provenance": [],
      "authorship_tag": "ABX9TyPwX6h3itYeXeCTo023Z83F",
      "include_colab_link": true
    },
    "kernelspec": {
      "name": "python3",
      "display_name": "Python 3"
    },
    "language_info": {
      "name": "python"
    }
  },
  "cells": [
    {
      "cell_type": "markdown",
      "metadata": {
        "id": "view-in-github",
        "colab_type": "text"
      },
      "source": [
        "<a href=\"https://colab.research.google.com/github/nastuaah/telegram_bot/blob/master/%D0%9F%D1%80%D0%BE%D0%B5%D0%BA%D1%821.ipynb\" target=\"_parent\"><img src=\"https://colab.research.google.com/assets/colab-badge.svg\" alt=\"Open In Colab\"/></a>"
      ]
    },
    {
      "cell_type": "code",
      "source": [
        "!pip3 install pytelegrambotapi"
      ],
      "metadata": {
        "id": "zpesOROMjprz"
      },
      "execution_count": null,
      "outputs": []
    },
    {
      "cell_type": "code",
      "source": [
        "!pip3 install requests"
      ],
      "metadata": {
        "id": "nsWLaSNcjr7b"
      },
      "execution_count": null,
      "outputs": []
    },
    {
      "cell_type": "code",
      "source": [
        "!pip3 install io"
      ],
      "metadata": {
        "id": "K_89J1JgjuWz"
      },
      "execution_count": null,
      "outputs": []
    },
    {
      "cell_type": "code",
      "execution_count": null,
      "metadata": {
        "id": "5_xHJ17sjkVJ"
      },
      "outputs": [],
      "source": [
        "import telebot\n",
        "import requests\n",
        "from io import BytesIO\n",
        "\n",
        "bot = telebot.TeleBot(\"'6219426476:AAEsx4VPKBpEwZ3ExJF2NyZbsvYDJcjjlm8'\")\n",
        "\n",
        "azure_api_key = \"YOUR_AZURE_API_KEY\"\n",
        "\n",
        "@bot.message_handler(content_types=['photo'])\n",
        "def handle_photo(message):\n",
        "    file_id = message.photo[-1].file_id\n",
        "    file_info = bot.get_file(file_id)\n",
        "    downloaded_file = bot.download_file(file_info.file_path)\n",
        "    # Analyze the photo using Azure Computer Vision API\n",
        "    url = \"https://westus.api.cognitive.microsoft.com/vision/v1.0/describe\"\n",
        "    headers = {'Ocp-Apim-Subscription-Key': azure_api_key, 'Content-Type': 'application/octet-stream'}\n",
        "    response = requests.post(url, headers=headers, data=BytesIO(downloaded_file).read())\n",
        "    description = response.json()['description']['captions'][0]['text']\n",
        "    bot.send_message(message.chat.id, description)\n",
        "\n",
        "bot.polling()"
      ]
    }
  ]
}